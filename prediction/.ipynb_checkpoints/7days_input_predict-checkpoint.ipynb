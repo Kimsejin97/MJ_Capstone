{
 "cells": [
  {
   "cell_type": "code",
   "execution_count": 1,
   "metadata": {},
   "outputs": [
    {
     "ename": "ModuleNotFoundError",
     "evalue": "No module named 'lightgbm'",
     "output_type": "error",
     "traceback": [
      "\u001b[0;31m---------------------------------------------------------------------------\u001b[0m",
      "\u001b[0;31mModuleNotFoundError\u001b[0m                       Traceback (most recent call last)",
      "\u001b[0;32m<ipython-input-1-278bacca5838>\u001b[0m in \u001b[0;36m<module>\u001b[0;34m\u001b[0m\n\u001b[1;32m      1\u001b[0m \u001b[0;32mimport\u001b[0m \u001b[0mpandas\u001b[0m \u001b[0;32mas\u001b[0m \u001b[0mpd\u001b[0m\u001b[0;34m\u001b[0m\u001b[0;34m\u001b[0m\u001b[0m\n\u001b[1;32m      2\u001b[0m \u001b[0;32mimport\u001b[0m \u001b[0mos\u001b[0m\u001b[0;34m\u001b[0m\u001b[0;34m\u001b[0m\u001b[0m\n\u001b[0;32m----> 3\u001b[0;31m \u001b[0;32mimport\u001b[0m \u001b[0mlightgbm\u001b[0m \u001b[0;32mas\u001b[0m \u001b[0mlgb\u001b[0m\u001b[0;34m\u001b[0m\u001b[0;34m\u001b[0m\u001b[0m\n\u001b[0m\u001b[1;32m      4\u001b[0m \u001b[0;32mimport\u001b[0m \u001b[0mxgboost\u001b[0m \u001b[0;32mas\u001b[0m \u001b[0mxgb\u001b[0m\u001b[0;34m\u001b[0m\u001b[0;34m\u001b[0m\u001b[0m\n\u001b[1;32m      5\u001b[0m \u001b[0;32mimport\u001b[0m \u001b[0mnumpy\u001b[0m \u001b[0;32mas\u001b[0m \u001b[0mnp\u001b[0m\u001b[0;34m\u001b[0m\u001b[0;34m\u001b[0m\u001b[0m\n",
      "\u001b[0;31mModuleNotFoundError\u001b[0m: No module named 'lightgbm'"
     ]
    }
   ],
   "source": [
    "import pandas as pd\n",
    "import os\n",
    "import lightgbm as lgb\n",
    "import xgboost as xgb\n",
    "import numpy as np\n",
    "import matplotlib.pyplot as plt\n",
    "import time\n",
    "\n",
    "from math import sqrt\n",
    "from sklearn.metrics import mean_squared_error\n",
    "from sklearn.model_selection import train_test_split\n",
    "from sklearn.model_selection import KFold, cross_val_score\n",
    "from sklearn.linear_model import Lasso\n",
    "from sklearn.ensemble import GradientBoostingRegressor\n",
    "\n",
    "from keras.models import Sequential\n",
    "from keras.layers import Dense, Dropout\n",
    "from keras.callbacks import ModelCheckpoint\n",
    "import pickle"
   ]
  },
  {
   "cell_type": "code",
   "execution_count": null,
   "metadata": {},
   "outputs": [],
   "source": [
    "price = pd.read_csv('./transpose-123 - transpose.csv')\n",
    "path = 'pepper_supply/pepper'\n",
    "o00 = pd.read_excel('./{}_00.xlsx'.format(path))\n",
    "o01 = pd.read_excel('./{}_01.xlsx'.format(path))\n",
    "o02 = pd.read_excel('./{}_02.xlsx'.format(path))\n",
    "o03 = pd.read_excel('./{}_03.xlsx'.format(path))\n",
    "o04 = pd.read_excel('./{}_04.xlsx'.format(path))\n",
    "o05 = pd.read_excel('./{}_05.xlsx'.format(path))\n",
    "o06 = pd.read_excel('./{}_06.xlsx'.format(path))\n",
    "o07 = pd.read_excel('./{}_07.xlsx'.format(path))\n",
    "o08 = pd.read_excel('./{}_08.xlsx'.format(path))\n",
    "o09 = pd.read_excel('./{}_09.xlsx'.format(path))\n",
    "o10 = pd.read_excel('./{}_10.xlsx'.format(path))\n",
    "o11 = pd.read_excel('./{}_11.xlsx'.format(path))\n",
    "o12 = pd.read_excel('./{}_12.xlsx'.format(path))\n",
    "o13 = pd.read_excel('./{}_13.xlsx'.format(path))\n",
    "o14 = pd.read_excel('./{}_14.xlsx'.format(path))\n",
    "o15 = pd.read_excel('./{}_15.xlsx'.format(path))\n",
    "o16 = pd.read_excel('./{}_16.xlsx'.format(path))\n",
    "o17 = pd.read_excel('./{}_17.xlsx'.format(path))\n",
    "o18 = pd.read_excel('./{}_18.xlsx'.format(path))\n",
    "o19 = pd.read_excel('./{}_19.xlsx'.format(path))\n",
    "# o20 = pd.read_excel('./{}_20.xlsx'.format(path))\n",
    "\n",
    "supply = pd.concat([o00, o01, o02, o03, o04, o05, o06, o07, o08, o09, o10, o11, o12, o13, o14, o15, o16, o17, o18, o19])\n",
    "# supply = supply[2:]\n",
    "supply['년도'] = supply['거래년월일'].apply(lambda x: str(x)[:4]).astype(str)\n",
    "supply['월'] = supply['거래년월일'].apply(lambda x: str(x)[4:6]).astype(str)\n",
    "supply['일'] = supply['거래년월일'].apply(lambda x: str(x)[6:8]).astype(str)\n",
    "supply['거래량'] = supply['거래량'].apply(lambda x: ''.join(str(x).split(','))).astype(int)\n",
    "supply"
   ]
  },
  {
   "cell_type": "code",
   "execution_count": null,
   "metadata": {},
   "outputs": [],
   "source": [
    "price['년도'] = price['년도'].apply(lambda x: str(x))\n",
    "price['월'] = price['월/일'].apply(lambda x: str(x)[0:2]).astype(str)\n",
    "price['일'] = price['월/일'].apply(lambda x: str(x)[3:5]).astype(str)\n",
    "price"
   ]
  },
  {
   "cell_type": "code",
   "execution_count": null,
   "metadata": {},
   "outputs": [],
   "source": [
    "sup_total = supply.groupby(['년도','월','일'], as_index=False).sum()\n",
    "sup_total = sup_total[:-2]\n",
    "sup_total"
   ]
  },
  {
   "cell_type": "code",
   "execution_count": null,
   "metadata": {},
   "outputs": [],
   "source": [
    "df = pd.merge(price, sup_total, on=['년도','월','일'])\n",
    "df"
   ]
  },
  {
   "cell_type": "code",
   "execution_count": null,
   "metadata": {},
   "outputs": [],
   "source": [
    "df2 = df[['년도','월','일','평균','거래량']]\n",
    "df2['년도'] = df2['년도'].apply(lambda x: int(x))\n",
    "df2['월'] = df2['월'].apply(lambda x: int(x))\n",
    "df2['일'] = df2['일'].apply(lambda x: int(x))\n",
    "df2['평균'] = df2['평균'].apply(lambda x: ''.join(str(x).split(','))).astype(int) \n",
    "\n",
    "df2"
   ]
  },
  {
   "cell_type": "code",
   "execution_count": null,
   "metadata": {},
   "outputs": [],
   "source": [
    "a = list(df2['평균'])\n",
    "df2['d+1'] = a\n",
    "a.insert(0,0)\n",
    "a = a[:-1]\n",
    "\n",
    "df2['d-0'] = a\n",
    "a.insert(0,0)\n",
    "a = a[:-1]\n",
    "\n",
    "df2['d-1'] = a\n",
    "a.insert(0,0)\n",
    "a = a[:-1]\n",
    "\n",
    "df2['d-2'] = a\n",
    "a.insert(0,0)\n",
    "a = a[:-1]\n",
    "\n",
    "df2['d-3'] = a\n",
    "a.insert(0,0)\n",
    "a = a[:-1]\n",
    "\n",
    "df2['d-4'] = a\n",
    "a.insert(0,0)\n",
    "a = a[:-1]\n",
    "\n",
    "df2['d-5'] = a\n",
    "a.insert(0,0)\n",
    "a = a[:-1]\n",
    "\n",
    "df2['d-6'] = a\n",
    "a.insert(0,0)\n",
    "a = a[:-1]\n",
    "\n",
    "df2['d-7'] = a\n",
    "df2.head(10)"
   ]
  },
  {
   "cell_type": "code",
   "execution_count": null,
   "metadata": {},
   "outputs": [],
   "source": [
    "del df2['평균']\n",
    "df2 = df2[8:]\n",
    "df2 = df2.reset_index(drop=True)\n",
    "df2"
   ]
  },
  {
   "cell_type": "code",
   "execution_count": null,
   "metadata": {},
   "outputs": [],
   "source": [
    "y = df2['d+1']\n",
    "del df2['d+1']"
   ]
  },
  {
   "cell_type": "code",
   "execution_count": null,
   "metadata": {},
   "outputs": [],
   "source": [
    "model = Sequential()\n",
    "model.add(Dense(30, input_dim=12, activation='relu'))\n",
    "model.add(Dense(900, activation='relu'))\n",
    "model.add(Dense(4096, activation='relu'))\n",
    "model.add(Dense(1028, activation='relu'))\n",
    "model.add(Dense(512, activation='relu'))\n",
    "model.add(Dense(256, activation='relu'))\n",
    "model.add(Dense(128, activation='relu'))\n",
    "model.add(Dense(64, activation='relu'))\n",
    "model.add(Dense(32, activation='relu'))\n",
    "model.add(Dense(16, activation='relu'))\n",
    "model.add(Dense(8, activation='relu'))\n",
    "model.add(Dense(4, activation='relu'))\n",
    "model.add(Dense(2, activation='relu'))\n",
    "model.add(Dense(1))\n",
    "model.compile(loss='mean_squared_error',\n",
    "             optimizer='adam',\n",
    "             metrics=['accuracy'])\n",
    "\n",
    "\n",
    "seed_pred_result = []\n",
    "rmse_result = []\n",
    "for i in range(10):\n",
    "    rand_num = i\n",
    "    x_train, x_test,y_train, y_test = train_test_split(df2, y, test_size=0.3, random_state=rand_num)\n",
    "\n",
    "    gboost = GradientBoostingRegressor(random_state=rand_num)\n",
    "    xgboost = xgb.XGBRegressor(random_state=rand_num)\n",
    "    lightgbm = lgb.LGBMRegressor(random_state=rand_num)\n",
    "    lasso = Lasso(alpha=1.0, random_state=rand_num)\n",
    "\n",
    "    models = [{'model':xgboost, 'name':'XGBoost'},\n",
    "              {'model':gboost, 'name': 'GradientBoosting'},\n",
    "              {'model':lightgbm, 'name':'LightGBM'},\n",
    "              {'model':lasso, 'name': 'Lasso'}]\n",
    "    result = []\n",
    "    rmse = []\n",
    "    result.append(y_test)\n",
    "\n",
    "    for m in models:\n",
    "        m['model'].fit(x_train.values, y_train)\n",
    "        pickle.dump(m['model'], open(\"pima_{}_{}.pickle.dat\".format(i, m['name']), \"wb\"))\n",
    "        #.save_model('./{}_model'.format(m['name']))\n",
    "\n",
    "    for m in models:\n",
    "    #         pickle.dump(m['model'], open(\"pima_{}.pickle.dat\".format(m['name']), \"wb\"))\n",
    "        loaded_model = pickle.load(open(\"pima_{}_{}.pickle.dat\".format(i, m['name']), \"rb\"))\n",
    "    #     loaded_model.predict(X_test)\n",
    "        predictions = loaded_model.predict(x_test.values) \n",
    "        result.append(predictions)\n",
    "        rmse.append({m['name']:sqrt(mean_squared_error(y_test, predictions))})\n",
    "\n",
    "    \n",
    "    # 모델 저장 폴더 설정\n",
    "    MODEL_DIR = './model_{}/'.format(i)\n",
    "    if not os.path.exists(MODEL_DIR):\n",
    "        os.mkdir(MODEL_DIR)\n",
    "        \n",
    "    # 모델 저장 조건 설정\n",
    "    modelpath = MODEL_DIR + 'keras_{epoch:02d}-{val_loss:.4f}.hdf5'\n",
    "    checkpointer = ModelCheckpoint(filepath=modelpath, monitor='val_loss', verbose=1, save_best_only=True)\n",
    "    history = model.fit(x_train, y_train, validation_split=0.3, epochs=500, batch_size=8, callbacks=[checkpointer])\n",
    "    \n",
    "    modelPred = model.predict(x_test)\n",
    "    Y_prediction = modelPred.flatten()\n",
    "\n",
    "    result.append(Y_prediction)\n",
    "    rmse.append({'keras':sqrt(mean_squared_error(y_test, modelPred))})\n",
    "\n",
    "    dict = {'y': result[0], 'xgboost': result[1], 'gboost': result[2], 'lightgbm':result[3], 'lasso':result[4],'keras': result[5]}\n",
    "\n",
    "    df_res = pd.DataFrame(dict)\n",
    "    df_res['average'] = df_res[['xgboost', 'gboost', 'lightgbm', 'lasso', 'keras']].apply(lambda x: round(x.mean()), axis=1)\n",
    "    rmse.append({'average':sqrt(mean_squared_error(y_test, df_res['average']))})\n",
    "\n",
    "    rmse_result.append(rmse)\n",
    "    seed_pred_result.append(df_res)    "
   ]
  },
  {
   "cell_type": "code",
   "execution_count": null,
   "metadata": {},
   "outputs": [],
   "source": []
  },
  {
   "cell_type": "code",
   "execution_count": null,
   "metadata": {},
   "outputs": [],
   "source": []
  },
  {
   "cell_type": "code",
   "execution_count": null,
   "metadata": {},
   "outputs": [],
   "source": [
    "rmse_result  "
   ]
  },
  {
   "cell_type": "code",
   "execution_count": null,
   "metadata": {},
   "outputs": [],
   "source": [
    "seed_pred_result[0].head(10)"
   ]
  },
  {
   "cell_type": "code",
   "execution_count": null,
   "metadata": {},
   "outputs": [],
   "source": [
    "seed_pred_result[1].head(10)"
   ]
  },
  {
   "cell_type": "code",
   "execution_count": null,
   "metadata": {},
   "outputs": [],
   "source": [
    "seed_pred_result[2].head(10)"
   ]
  },
  {
   "cell_type": "code",
   "execution_count": null,
   "metadata": {},
   "outputs": [],
   "source": [
    "seed_pred_result[3].head(10)"
   ]
  },
  {
   "cell_type": "code",
   "execution_count": null,
   "metadata": {},
   "outputs": [],
   "source": [
    "seed_pred_result[4].head(10)"
   ]
  },
  {
   "cell_type": "code",
   "execution_count": null,
   "metadata": {},
   "outputs": [],
   "source": []
  }
 ],
 "metadata": {
  "kernelspec": {
   "display_name": "Python 3",
   "language": "python",
   "name": "python3"
  },
  "language_info": {
   "codemirror_mode": {
    "name": "ipython",
    "version": 3
   },
   "file_extension": ".py",
   "mimetype": "text/x-python",
   "name": "python",
   "nbconvert_exporter": "python",
   "pygments_lexer": "ipython3",
   "version": "3.6.9"
  }
 },
 "nbformat": 4,
 "nbformat_minor": 4
}
